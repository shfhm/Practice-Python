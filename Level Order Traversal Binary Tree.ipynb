{
 "cells": [
  {
   "cell_type": "code",
   "execution_count": 1,
   "metadata": {},
   "outputs": [],
   "source": [
    "def levelOrder(self, root):\n",
    "        if not root:\n",
    "            return []\n",
    "        q1=[]\n",
    "        q2=[]\n",
    "        level=[]\n",
    "        q1.append(root)\n",
    "        while q1 is not None or q2 is not None:\n",
    "            while q1 is not None:\n",
    "                root=q1.pop(0)\n",
    "                print(root.val)\n",
    "                if root.left is not None:\n",
    "                    q2.append(root.left)\n",
    "                if root.rigth is not None:\n",
    "                    q2.append(root.rigth)\n",
    "            print(' \\n ')\n",
    "            while q2 is not None:\n",
    "                root=q2.pop(0)\n",
    "                print (root.val)\n",
    "                if root.left:\n",
    "                    q2.append(root.left)\n",
    "                if root.rigth:\n",
    "                    q2.append(root.rigth)\n",
    "            print('\\n')"
   ]
  },
  {
   "cell_type": "code",
   "execution_count": null,
   "metadata": {},
   "outputs": [],
   "source": []
  }
 ],
 "metadata": {
  "kernelspec": {
   "display_name": "Python 3",
   "language": "python",
   "name": "python3"
  },
  "language_info": {
   "codemirror_mode": {
    "name": "ipython",
    "version": 3
   },
   "file_extension": ".py",
   "mimetype": "text/x-python",
   "name": "python",
   "nbconvert_exporter": "python",
   "pygments_lexer": "ipython3",
   "version": "3.6.4"
  }
 },
 "nbformat": 4,
 "nbformat_minor": 2
}
