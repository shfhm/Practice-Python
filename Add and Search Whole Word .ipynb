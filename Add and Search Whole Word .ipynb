{
 "cells": [
  {
   "cell_type": "code",
   "execution_count": 11,
   "metadata": {},
   "outputs": [
    {
     "name": "stdout",
     "output_type": "stream",
     "text": [
      "None\n",
      "True\n",
      "False\n"
     ]
    }
   ],
   "source": [
    "class Trienode(object):\n",
    "    def __init__(self):\n",
    "        self.dict={}\n",
    "        self.ends=False\n",
    "        \n",
    "class AddWords(object):\n",
    "    def __init__(self):\n",
    "        self.root=Trienode()\n",
    "        \n",
    "    def insert(self, word):\n",
    "        cur = self.root\n",
    "        for char in word:\n",
    "            child=cur.dict.get(char)\n",
    "            if child is None:\n",
    "                child=Trienode()\n",
    "                cur.dict[char]=child  \n",
    "            cur=child\n",
    "        cur.ends=True\n",
    "        \n",
    "    def search(self, word):\n",
    "        cur=self.root\n",
    "        for char in word:\n",
    "            child=cur.dict.get(char)\n",
    "            if child is None:         #search whole word\n",
    "                return False\n",
    "            else:\n",
    "                cur=child\n",
    "        return cur.ends\n",
    "    \n",
    "s=AddWords()\n",
    "print(s.insert('ab'))\n",
    "print(s.search('ab'))\n",
    "print(s.search('a'))         "
   ]
  },
  {
   "cell_type": "code",
   "execution_count": null,
   "metadata": {},
   "outputs": [],
   "source": []
  }
 ],
 "metadata": {
  "kernelspec": {
   "display_name": "Python 3",
   "language": "python",
   "name": "python3"
  },
  "language_info": {
   "codemirror_mode": {
    "name": "ipython",
    "version": 3
   },
   "file_extension": ".py",
   "mimetype": "text/x-python",
   "name": "python",
   "nbconvert_exporter": "python",
   "pygments_lexer": "ipython3",
   "version": "3.6.4"
  }
 },
 "nbformat": 4,
 "nbformat_minor": 2
}
